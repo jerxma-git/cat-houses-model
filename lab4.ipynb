{
 "cells": [
  {
   "cell_type": "markdown",
   "id": "a55e86a6",
   "metadata": {},
   "source": [
    "# Лабораторная работа №4. Оптимизация входных параметров\n",
    "\n",
    "## Цель оптимизации\n",
    "Увеличить количество домиков, поступающих к продаже\n",
    "\n",
    "## Алгоритм\n",
    "Используется полный перебор ключевых значений, влияющих на целевую функцию: `PLANNED_HOUSES_NUM`, `CATS_NUM`, `BUILDERS_NUM`, `wooden_processing_time`, `fabric_processing_time`\n",
    "Для ускорения оптимизации и удобства параметры ``wooden_processing_time`, `fabric_processing_time` сгруппированы в один `DETAIL_PROCESSING_TIME_OVERRIDE`"
   ]
  },
  {
   "cell_type": "code",
   "execution_count": 6,
   "id": "b14a7d30",
   "metadata": {},
   "outputs": [],
   "source": [
    "import simpy\n",
    "from pprint import pprint\n",
    "from itertools import product\n",
    "from cathousefactory import CatHouseFactory, CatFactoryConfig\n",
    "from customrng import CustomRNG\n",
    "from statsprocessing import extract_business_metrics"
   ]
  },
  {
   "cell_type": "code",
   "execution_count": 7,
   "id": "cc5e0e1b",
   "metadata": {},
   "outputs": [],
   "source": [
    "def run_simulation(config):\n",
    "    \n",
    "    rng = CustomRNG(12345)\n",
    "    env = simpy.Environment()\n",
    "    factory = CatHouseFactory(env, config, rng)\n",
    "    \n",
    "    for i in range(1, 100):\n",
    "        factory.run(until=i*100000)\n",
    "    \n",
    "    return factory.get_stats()"
   ]
  },
  {
   "cell_type": "code",
   "execution_count": 8,
   "id": "fbcdf882",
   "metadata": {},
   "outputs": [],
   "source": [
    "PARAM_VARIAIONS = {\n",
    "    \"PLANNED_HOUSES_NUM\": [50, 150, 250],\n",
    "    \"CATS_NUM\": [2, 6, 10],\n",
    "    \"BUILDERS_NUM\": [2, 6, 10],\n",
    "    \"DETAIL_PROCESSING_TIME_OVERRIDE\": [0.2, 1.0, 2.0],\n",
    "}"
   ]
  },
  {
   "cell_type": "code",
   "execution_count": 9,
   "id": "2034d035",
   "metadata": {},
   "outputs": [
    {
     "name": "stdout",
     "output_type": "stream",
     "text": [
      "progress: 0/81\n",
      "progress: 10/81\n",
      "progress: 20/81\n",
      "progress: 30/81\n",
      "progress: 40/81\n",
      "progress: 50/81\n",
      "progress: 60/81\n",
      "progress: 70/81\n",
      "progress: 80/81\n"
     ]
    }
   ],
   "source": [
    "# на всякий случай\n",
    "PARAM_ORDER = [\n",
    "    \"PLANNED_HOUSES_NUM\", \n",
    "    \"CATS_NUM\", \n",
    "    \"BUILDERS_NUM\", \n",
    "    \"DETAIL_PROCESSING_TIME_OVERRIDE\",\n",
    "    ]\n",
    "\n",
    "# проход по всем комбинациям\n",
    "results = []\n",
    "all_combinations = list(product(*(PARAM_VARIAIONS[key] for key in PARAM_ORDER)))\n",
    "for i, values in enumerate(all_combinations):\n",
    "    param_values = dict(zip(PARAM_ORDER, values))\n",
    "    config = CatFactoryConfig(**param_values)\n",
    "    stats = run_simulation(config)\n",
    "    result = extract_business_metrics(stats)\n",
    "    results.append((param_values, result))\n",
    "    if i % 10 == 0:\n",
    "        print(f\"progress: {i}/{len(all_combinations)}\")\n"
   ]
  },
  {
   "cell_type": "code",
   "execution_count": 11,
   "id": "fa30a6dc",
   "metadata": {},
   "outputs": [
    {
     "name": "stdout",
     "output_type": "stream",
     "text": [
      "#################################################################\n",
      "Лучший результат для метрики houses_per_time: 0.09239547282761201\n",
      "Достигается при следующих параметрах:\n",
      "{'BUILDERS_NUM': 10,\n",
      " 'CATS_NUM': 10,\n",
      " 'DETAIL_PROCESSING_TIME_OVERRIDE': 0.2,\n",
      " 'PLANNED_HOUSES_NUM': 250}\n",
      "Полные значения метрик для таких параметров:\n",
      "{'cat_approval_rate': 0.6394355256343863,\n",
      " 'house_success_rate': 0.5986666666666667,\n",
      " 'houses_per_time': 0.09239547282761201}\n",
      "\n",
      "#################################################################\n",
      "Лучший результат для метрики house_success_rate: 0.5994612794612795\n",
      "Достигается при следующих параметрах:\n",
      "{'BUILDERS_NUM': 10,\n",
      " 'CATS_NUM': 6,\n",
      " 'DETAIL_PROCESSING_TIME_OVERRIDE': 0.2,\n",
      " 'PLANNED_HOUSES_NUM': 150}\n",
      "Полные значения метрик для таких параметров:\n",
      "{'cat_approval_rate': 0.6420946335833814,\n",
      " 'house_success_rate': 0.5994612794612795,\n",
      " 'houses_per_time': 0.06402197833810393}\n",
      "\n",
      "#################################################################\n",
      "Лучший результат для метрики cat_approval_rate: 0.6458242238740708\n",
      "Достигается при следующих параметрах:\n",
      "{'BUILDERS_NUM': 10,\n",
      " 'CATS_NUM': 10,\n",
      " 'DETAIL_PROCESSING_TIME_OVERRIDE': 0.2,\n",
      " 'PLANNED_HOUSES_NUM': 50}\n",
      "Полные значения метрик для таких параметров:\n",
      "{'cat_approval_rate': 0.6458242238740708,\n",
      " 'house_success_rate': 0.5967676767676767,\n",
      " 'houses_per_time': 0.06286979100157493}\n",
      "\n"
     ]
    }
   ],
   "source": [
    "business_metrics = ['houses_per_time', 'house_success_rate', 'cat_approval_rate']\n",
    "\n",
    "for metric in business_metrics:\n",
    "    best_result = max(results, key=lambda res: res[1][metric])\n",
    "    print(\"#################################################################\")\n",
    "    print(f\"Лучший результат для метрики {metric}: {best_result[1][metric]}\")\n",
    "    print(f\"Достигается при следующих параметрах:\")\n",
    "    pprint(best_result[0])\n",
    "    print(f\"Полные значения метрик для таких параметров:\")\n",
    "    pprint(best_result[1])\n",
    "    print()"
   ]
  },
  {
   "cell_type": "markdown",
   "id": "3c4317ca",
   "metadata": {},
   "source": [
    "## Анализ результатов:\n",
    "\n",
    "Наилучший ключевые показатель `houses_per_time` достигается при минимальных параметрах wooden_processing_time и fabric_processing_time, а также при максимальных BUILDERS_NUM и CATS_NUM\n",
    "\n",
    "Дополнительные показатели `cat_approval_rate` и `house_success_rate` не особо отличаются от своих средних значений\n",
    "\n",
    "## Рекомендации\n",
    " \n",
    "Увеличить количество обрабатывающих ресурсов - больше станков, чтобы уменьшить `wooden/fabric_processing_time`, а также больше сборщиков и котов "
   ]
  }
 ],
 "metadata": {
  "kernelspec": {
   "display_name": ".venv",
   "language": "python",
   "name": "python3"
  },
  "language_info": {
   "codemirror_mode": {
    "name": "ipython",
    "version": 3
   },
   "file_extension": ".py",
   "mimetype": "text/x-python",
   "name": "python",
   "nbconvert_exporter": "python",
   "pygments_lexer": "ipython3",
   "version": "3.9.6"
  }
 },
 "nbformat": 4,
 "nbformat_minor": 5
}
