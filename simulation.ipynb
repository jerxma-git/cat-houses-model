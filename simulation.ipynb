{
 "cells": [
  {
   "cell_type": "code",
   "execution_count": 1,
   "metadata": {},
   "outputs": [
    {
     "name": "stdout",
     "output_type": "stream",
     "text": [
      "Requirement already satisfied: simpy in /Users/jeroma/personal/uni/im/ref/.venv/lib/python3.9/site-packages (4.1.1)\n",
      "Requirement already satisfied: numpy in /Users/jeroma/personal/uni/im/ref/.venv/lib/python3.9/site-packages (2.0.2)\n",
      "Requirement already satisfied: matplotlib in /Users/jeroma/personal/uni/im/ref/.venv/lib/python3.9/site-packages (3.9.4)\n",
      "Requirement already satisfied: sortedcontainers in /Users/jeroma/personal/uni/im/ref/.venv/lib/python3.9/site-packages (2.4.0)\n",
      "Requirement already satisfied: contourpy>=1.0.1 in /Users/jeroma/personal/uni/im/ref/.venv/lib/python3.9/site-packages (from matplotlib) (1.3.0)\n",
      "Requirement already satisfied: cycler>=0.10 in /Users/jeroma/personal/uni/im/ref/.venv/lib/python3.9/site-packages (from matplotlib) (0.12.1)\n",
      "Requirement already satisfied: fonttools>=4.22.0 in /Users/jeroma/personal/uni/im/ref/.venv/lib/python3.9/site-packages (from matplotlib) (4.57.0)\n",
      "Requirement already satisfied: kiwisolver>=1.3.1 in /Users/jeroma/personal/uni/im/ref/.venv/lib/python3.9/site-packages (from matplotlib) (1.4.7)\n",
      "Requirement already satisfied: packaging>=20.0 in /Users/jeroma/personal/uni/im/ref/.venv/lib/python3.9/site-packages (from matplotlib) (25.0)\n",
      "Requirement already satisfied: pillow>=8 in /Users/jeroma/personal/uni/im/ref/.venv/lib/python3.9/site-packages (from matplotlib) (11.2.1)\n",
      "Requirement already satisfied: pyparsing>=2.3.1 in /Users/jeroma/personal/uni/im/ref/.venv/lib/python3.9/site-packages (from matplotlib) (3.2.3)\n",
      "Requirement already satisfied: python-dateutil>=2.7 in /Users/jeroma/personal/uni/im/ref/.venv/lib/python3.9/site-packages (from matplotlib) (2.9.0.post0)\n",
      "Requirement already satisfied: importlib-resources>=3.2.0 in /Users/jeroma/personal/uni/im/ref/.venv/lib/python3.9/site-packages (from matplotlib) (6.5.2)\n",
      "Requirement already satisfied: zipp>=3.1.0 in /Users/jeroma/personal/uni/im/ref/.venv/lib/python3.9/site-packages (from importlib-resources>=3.2.0->matplotlib) (3.21.0)\n",
      "Requirement already satisfied: six>=1.5 in /Users/jeroma/personal/uni/im/ref/.venv/lib/python3.9/site-packages (from python-dateutil>=2.7->matplotlib) (1.17.0)\n",
      "Note: you may need to restart the kernel to use updated packages.\n"
     ]
    }
   ],
   "source": [
    "%pip install simpy numpy matplotlib sortedcontainers"
   ]
  },
  {
   "cell_type": "code",
   "execution_count": 2,
   "metadata": {},
   "outputs": [],
   "source": [
    "# %load_ext autoreload\n",
    "# %autoreload 2\n",
    "import simpy\n",
    "\n",
    "from models import Color, PremiumCatHouse, StandardCatHouse\n",
    "from models import WoodenHousePart, WoodenPartType, FabricHousePart, FabricPartType\n",
    "\n",
    "from cathousefactory import CatHouseFactory\n",
    "from cathousefactory import CatFactoryConfig\n",
    "\n",
    "from customrng import CustomRNG"
   ]
  },
  {
   "cell_type": "code",
   "execution_count": 3,
   "metadata": {},
   "outputs": [
    {
     "name": "stdout",
     "output_type": "stream",
     "text": [
      "[WoodenHousePart(quality=0.5, color=<Color.RED: 1>, type=<WoodenPartType.TYPE1: 1>), WoodenHousePart(quality=0.5, color=<Color.RED: 1>, type=<WoodenPartType.TYPE1: 1>), WoodenHousePart(quality=0.5, color=<Color.RED: 1>, type=<WoodenPartType.TYPE1: 1>), WoodenHousePart(quality=0.5, color=<Color.RED: 1>, type=<WoodenPartType.TYPE1: 1>), WoodenHousePart(quality=0.5, color=<Color.RED: 1>, type=<WoodenPartType.TYPE1: 1>), WoodenHousePart(quality=0.5, color=<Color.RED: 1>, type=<WoodenPartType.TYPE1: 1>), WoodenHousePart(quality=0.5, color=<Color.RED: 1>, type=<WoodenPartType.TYPE1: 1>), WoodenHousePart(quality=0.5, color=<Color.RED: 1>, type=<WoodenPartType.TYPE1: 1>), WoodenHousePart(quality=0.5, color=<Color.RED: 1>, type=<WoodenPartType.TYPE1: 1>), WoodenHousePart(quality=0.5, color=<Color.RED: 1>, type=<WoodenPartType.TYPE1: 1>), WoodenHousePart(quality=0.5, color=<Color.RED: 1>, type=<WoodenPartType.TYPE1: 1>), WoodenHousePart(quality=0.5, color=<Color.RED: 1>, type=<WoodenPartType.TYPE1: 1>), WoodenHousePart(quality=0.5, color=<Color.RED: 1>, type=<WoodenPartType.TYPE1: 1>), WoodenHousePart(quality=0.5, color=<Color.RED: 1>, type=<WoodenPartType.TYPE1: 1>), WoodenHousePart(quality=0.5, color=<Color.RED: 1>, type=<WoodenPartType.TYPE1: 1>), WoodenHousePart(quality=0.5, color=<Color.RED: 1>, type=<WoodenPartType.TYPE2: 2>), WoodenHousePart(quality=0.5, color=<Color.RED: 1>, type=<WoodenPartType.TYPE3: 3>), WoodenHousePart(quality=0.5, color=<Color.RED: 1>, type=<WoodenPartType.TYPE3: 3>), WoodenHousePart(quality=0.5, color=<Color.RED: 1>, type=<WoodenPartType.TYPE3: 3>)]\n"
     ]
    }
   ],
   "source": [
    "\n",
    "wt1 = [WoodenHousePart(0.5, Color.RED, WoodenPartType.TYPE1) for _ in range(10)]\n",
    "wt2 = [WoodenHousePart(0.5, Color.RED, WoodenPartType.TYPE2) for _ in range(1)]\n",
    "ft1 = [FabricHousePart(0.5, Color.RED, FabricPartType.TYPE1) for _ in range(3)]\n",
    "h = StandardCatHouse(0.9, wt1 + wt2 + ft1)\n",
    "\n",
    "wt1 = [WoodenHousePart(0.5, Color.RED, WoodenPartType.TYPE1) for _ in range(15)]\n",
    "wt2 = [WoodenHousePart(0.5, Color.RED, WoodenPartType.TYPE2) for _ in range(1)]\n",
    "wt3 = [WoodenHousePart(0.5, Color.RED, WoodenPartType.TYPE3) for _ in range(3)]\n",
    "ft1 = [FabricHousePart(0.5, Color.RED, FabricPartType.TYPE1) for _ in range(3)]\n",
    "ft2 = [FabricHousePart(0.5, Color.RED, FabricPartType.TYPE2) for _ in range(2)]\n",
    "h = PremiumCatHouse(0.9, wt1 + wt2 + wt3 + ft1 + ft2)\n",
    "\n",
    "print([p for p in h.parts if p.get_type() in set(WoodenPartType)])"
   ]
  },
  {
   "cell_type": "code",
   "execution_count": 4,
   "metadata": {},
   "outputs": [
    {
     "name": "stdout",
     "output_type": "stream",
     "text": [
      "0: Начата закупка сырья\n",
      "Запланировано 20 премиум и 30 стандартных домиков\n",
      "15: Закупка сырья завершена\n",
      "15: Поставка материалов | Дерево: 710ед, Ткань: 190ед, Краска: 900ед\n",
      "15 начало изготовления деталей типов {<WoodenPartType.TYPE1: 1>, <WoodenPartType.TYPE2: 2>, <WoodenPartType.TYPE3: 3>} для дома типа CatHouseType.PREMIUM\n",
      "Изготавливаем 380 деталей\n",
      "15 начало изготовления деталей типов {<FabricPartType.TYPE1: 1>, <FabricPartType.TYPE2: 2>} для дома типа CatHouseType.PREMIUM\n",
      "Изготавливаем 100 деталей\n",
      "505 Сломалась деталь WoodenPartType.TYPE1\n",
      "995 Сломалась деталь WoodenPartType.TYPE1\n",
      "1015 конец изготовления деталей типов {<FabricPartType.TYPE1: 1>, <FabricPartType.TYPE2: 2>} для дома типа CatHouseType.PREMIUM\n",
      "Всего изготовлено деталей 100 из 100\n",
      "1025 Сломалась деталь WoodenPartType.TYPE1\n",
      "1585 Сломалась деталь WoodenPartType.TYPE1\n",
      "2385 Сломалась деталь WoodenPartType.TYPE1\n",
      "3335 Сломалась деталь WoodenPartType.TYPE1\n",
      "3875 конец изготовления деталей типов {<WoodenPartType.TYPE1: 1>, <WoodenPartType.TYPE2: 2>, <WoodenPartType.TYPE3: 3>} для дома типа CatHouseType.PREMIUM\n",
      "Всего изготовлено деталей 380 из 380\n",
      "3875 начало изготовления деталей типов {<WoodenPartType.TYPE1: 1>, <WoodenPartType.TYPE2: 2>, <WoodenPartType.TYPE3: 3>} для дома типа CatHouseType.STANDARD\n",
      "Изготавливаем 330 деталей\n",
      "3875 начало изготовления деталей типов {<FabricPartType.TYPE1: 1>, <FabricPartType.TYPE2: 2>} для дома типа CatHouseType.STANDARD\n",
      "Изготавливаем 90 деталей\n",
      "3975 Сломалась деталь FabricPartType.TYPE1\n",
      "4055 Сломалась деталь WoodenPartType.TYPE1\n",
      "4195 Сломалась деталь FabricPartType.TYPE1\n",
      "4535 Сломалась деталь FabricPartType.TYPE1\n",
      "4775 конец изготовления деталей типов {<FabricPartType.TYPE1: 1>, <FabricPartType.TYPE2: 2>} для дома типа CatHouseType.STANDARD\n",
      "Всего изготовлено деталей 87 из 90\n",
      "4945 Сломалась деталь WoodenPartType.TYPE1\n",
      "5115 Сломалась деталь WoodenPartType.TYPE1\n",
      "6105 Сломалась деталь WoodenPartType.TYPE2\n",
      "6555 Сломалась деталь WoodenPartType.TYPE2\n",
      "6915 Сломалась деталь WoodenPartType.TYPE1\n",
      "6955 Сломалась деталь WoodenPartType.TYPE1\n",
      "7115 конец изготовления деталей типов {<WoodenPartType.TYPE1: 1>, <WoodenPartType.TYPE2: 2>, <WoodenPartType.TYPE3: 3>} для дома типа CatHouseType.STANDARD\n",
      "Всего изготовлено деталей 317 из 330\n",
      "7115 Завершена обработка деталей\n",
      "Состояние:\n",
      "0 планок дерева\n",
      "0 рулонов ткани\n",
      "0 ведер краски\n",
      "697 деревянных деталей\n",
      "187 тканевых деталей\n",
      "7115 Начинается сборка премиум домов\n",
      "7115 Начата смена сборщика, ждем освобождения\n",
      "7115 Начата смена сборщика, ждем освобождения\n",
      "7115 Начата смена сборщика, ждем освобождения\n",
      "7115 Начата смена сборщика, ждем освобождения\n",
      "7115 Сборщик приступил к работе\n",
      "7115 Сборщик приступил к работе\n",
      "7115 Сборщик приступил к работе\n",
      "7115 Сборщик приступил к работе\n",
      "7228 Смена сборщика завершена, задач на домик CatHouseType.PREMIUM больше нет\n",
      "7240 Смена сборщика завершена, задач на домик CatHouseType.PREMIUM больше нет\n",
      "7249 Смена сборщика завершена, задач на домик CatHouseType.PREMIUM больше нет\n",
      "7289 Смена сборщика завершена, задач на домик CatHouseType.PREMIUM больше нет\n",
      "7289 Cборка премиум домов завершена\n",
      "7289 Начинается сборка стандартных домов\n",
      "7289 Начата смена сборщика, ждем освобождения\n",
      "7289 Начата смена сборщика, ждем освобождения\n",
      "7289 Начата смена сборщика, ждем освобождения\n",
      "7289 Начата смена сборщика, ждем освобождения\n",
      "7289 Сборщик приступил к работе\n",
      "7289 Сборщик приступил к работе\n",
      "7289 Сборщик приступил к работе\n",
      "7289 Сборщик приступил к работе\n",
      "7415 Смена сборщика завершена, задач на домик CatHouseType.STANDARD больше нет\n",
      "7419 Смена сборщика завершена, задач на домик CatHouseType.STANDARD больше нет\n",
      "7426 Смена сборщика завершена, задач на домик CatHouseType.STANDARD больше нет\n",
      "7429 Смена сборщика завершена, задач на домик CatHouseType.STANDARD больше нет\n",
      "7429 Cборка стандартных домов завершена\n",
      "Состояние:\n",
      "21 деревянных деталей\n",
      "11 тканевых деталей\n",
      "19 премиум домиков\n",
      "26 стандартных домиков\n",
      "7429 Начата смена котика, ждем приступления\n",
      "7429 Начата смена котика, ждем приступления\n",
      "7429 Начата смена котика, ждем приступления\n",
      "7429 Начата смена котика, ждем приступления\n",
      "7429 Котик приступил к работе\n",
      "7429 Котик приступил к работе\n",
      "7429 Котик приступил к работе\n",
      "7429 Котик приступил к работе\n",
      "8025 Смена котика завершена, задач тестирование домиков больше нет\n",
      "8036 Смена котика завершена, задач тестирование домиков больше нет\n",
      "8045 Смена котика завершена, задач тестирование домиков больше нет\n",
      "8062 Смена котика завершена, задач тестирование домиков больше нет\n",
      "8062 Завершено тестирование домиков\n",
      "Состояние:\n",
      "0 непротестированных домиков\n",
      "45 всего протестировано домиков\n",
      "25 к утилизации\n",
      "20 к продаже\n"
     ]
    }
   ],
   "source": [
    "\n",
    "# ============== #\n",
    "#     ЗАПУСК     #\n",
    "# ============== #\n",
    "\n",
    "\n",
    "def run_simulation():\n",
    "    \n",
    "    config = CatFactoryConfig(\n",
    "        PLANNED_HOUSES_NUM = 50,\n",
    "        PLANNED_PREMIUM_RATIO = 0.4\n",
    "    )\n",
    "    rng = CustomRNG(12345)\n",
    "    env = simpy.Environment()\n",
    "    factory = CatHouseFactory(env, config, rng)\n",
    "    \n",
    "    factory.run(until=1000000)\n",
    "\n",
    "run_simulation()"
   ]
  }
 ],
 "metadata": {
  "kernelspec": {
   "display_name": ".venv",
   "language": "python",
   "name": "python3"
  },
  "language_info": {
   "codemirror_mode": {
    "name": "ipython",
    "version": 3
   },
   "file_extension": ".py",
   "mimetype": "text/x-python",
   "name": "python",
   "nbconvert_exporter": "python",
   "pygments_lexer": "ipython3",
   "version": "3.9.6"
  }
 },
 "nbformat": 4,
 "nbformat_minor": 2
}
