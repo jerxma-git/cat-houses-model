{
 "cells": [
  {
   "cell_type": "code",
   "execution_count": 1,
   "metadata": {},
   "outputs": [
    {
     "name": "stdout",
     "output_type": "stream",
     "text": [
      "Requirement already satisfied: simpy in /Users/jeroma/personal/uni/im/ref/.venv/lib/python3.9/site-packages (4.1.1)\n",
      "Requirement already satisfied: numpy in /Users/jeroma/personal/uni/im/ref/.venv/lib/python3.9/site-packages (2.0.2)\n",
      "Requirement already satisfied: matplotlib in /Users/jeroma/personal/uni/im/ref/.venv/lib/python3.9/site-packages (3.9.4)\n",
      "Requirement already satisfied: sortedcontainers in /Users/jeroma/personal/uni/im/ref/.venv/lib/python3.9/site-packages (2.4.0)\n",
      "Requirement already satisfied: contourpy>=1.0.1 in /Users/jeroma/personal/uni/im/ref/.venv/lib/python3.9/site-packages (from matplotlib) (1.3.0)\n",
      "Requirement already satisfied: cycler>=0.10 in /Users/jeroma/personal/uni/im/ref/.venv/lib/python3.9/site-packages (from matplotlib) (0.12.1)\n",
      "Requirement already satisfied: fonttools>=4.22.0 in /Users/jeroma/personal/uni/im/ref/.venv/lib/python3.9/site-packages (from matplotlib) (4.57.0)\n",
      "Requirement already satisfied: kiwisolver>=1.3.1 in /Users/jeroma/personal/uni/im/ref/.venv/lib/python3.9/site-packages (from matplotlib) (1.4.7)\n",
      "Requirement already satisfied: packaging>=20.0 in /Users/jeroma/personal/uni/im/ref/.venv/lib/python3.9/site-packages (from matplotlib) (25.0)\n",
      "Requirement already satisfied: pillow>=8 in /Users/jeroma/personal/uni/im/ref/.venv/lib/python3.9/site-packages (from matplotlib) (11.2.1)\n",
      "Requirement already satisfied: pyparsing>=2.3.1 in /Users/jeroma/personal/uni/im/ref/.venv/lib/python3.9/site-packages (from matplotlib) (3.2.3)\n",
      "Requirement already satisfied: python-dateutil>=2.7 in /Users/jeroma/personal/uni/im/ref/.venv/lib/python3.9/site-packages (from matplotlib) (2.9.0.post0)\n",
      "Requirement already satisfied: importlib-resources>=3.2.0 in /Users/jeroma/personal/uni/im/ref/.venv/lib/python3.9/site-packages (from matplotlib) (6.5.2)\n",
      "Requirement already satisfied: zipp>=3.1.0 in /Users/jeroma/personal/uni/im/ref/.venv/lib/python3.9/site-packages (from importlib-resources>=3.2.0->matplotlib) (3.21.0)\n",
      "Requirement already satisfied: six>=1.5 in /Users/jeroma/personal/uni/im/ref/.venv/lib/python3.9/site-packages (from python-dateutil>=2.7->matplotlib) (1.17.0)\n",
      "Note: you may need to restart the kernel to use updated packages.\n"
     ]
    }
   ],
   "source": [
    "%pip install simpy numpy matplotlib sortedcontainers"
   ]
  },
  {
   "cell_type": "code",
   "execution_count": 2,
   "metadata": {},
   "outputs": [],
   "source": [
    "# %load_ext autoreload\n",
    "# %autoreload 2\n",
    "import simpy\n",
    "import random\n",
    "import numpy as np\n",
    "from collections import defaultdict\n",
    "\n",
    "from models import Color, PremiumCatHouse, StandardCatHouse\n",
    "from models import WoodenHousePart, WoodenPartType, FabricHousePart, FabricPartType\n",
    "\n",
    "from cathousefactory import CatHouseFactory\n",
    "from cathousefactory import CatFactoryConfig"
   ]
  },
  {
   "cell_type": "code",
   "execution_count": 3,
   "metadata": {},
   "outputs": [
    {
     "name": "stdout",
     "output_type": "stream",
     "text": [
      "[WoodenHousePart(quality=0.5, color=<Color.RED: 1>, type=<WoodenPartType.TYPE1: 1>), WoodenHousePart(quality=0.5, color=<Color.RED: 1>, type=<WoodenPartType.TYPE1: 1>), WoodenHousePart(quality=0.5, color=<Color.RED: 1>, type=<WoodenPartType.TYPE1: 1>), WoodenHousePart(quality=0.5, color=<Color.RED: 1>, type=<WoodenPartType.TYPE1: 1>), WoodenHousePart(quality=0.5, color=<Color.RED: 1>, type=<WoodenPartType.TYPE1: 1>), WoodenHousePart(quality=0.5, color=<Color.RED: 1>, type=<WoodenPartType.TYPE1: 1>), WoodenHousePart(quality=0.5, color=<Color.RED: 1>, type=<WoodenPartType.TYPE1: 1>), WoodenHousePart(quality=0.5, color=<Color.RED: 1>, type=<WoodenPartType.TYPE1: 1>), WoodenHousePart(quality=0.5, color=<Color.RED: 1>, type=<WoodenPartType.TYPE1: 1>), WoodenHousePart(quality=0.5, color=<Color.RED: 1>, type=<WoodenPartType.TYPE1: 1>), WoodenHousePart(quality=0.5, color=<Color.RED: 1>, type=<WoodenPartType.TYPE1: 1>), WoodenHousePart(quality=0.5, color=<Color.RED: 1>, type=<WoodenPartType.TYPE1: 1>), WoodenHousePart(quality=0.5, color=<Color.RED: 1>, type=<WoodenPartType.TYPE1: 1>), WoodenHousePart(quality=0.5, color=<Color.RED: 1>, type=<WoodenPartType.TYPE1: 1>), WoodenHousePart(quality=0.5, color=<Color.RED: 1>, type=<WoodenPartType.TYPE1: 1>), WoodenHousePart(quality=0.5, color=<Color.RED: 1>, type=<WoodenPartType.TYPE2: 2>), WoodenHousePart(quality=0.5, color=<Color.RED: 1>, type=<WoodenPartType.TYPE3: 3>), WoodenHousePart(quality=0.5, color=<Color.RED: 1>, type=<WoodenPartType.TYPE3: 3>), WoodenHousePart(quality=0.5, color=<Color.RED: 1>, type=<WoodenPartType.TYPE3: 3>)]\n"
     ]
    }
   ],
   "source": [
    "\n",
    "wt1 = [WoodenHousePart(0.5, Color.RED, WoodenPartType.TYPE1) for _ in range(10)]\n",
    "wt2 = [WoodenHousePart(0.5, Color.RED, WoodenPartType.TYPE2) for _ in range(1)]\n",
    "ft1 = [FabricHousePart(0.5, Color.RED, FabricPartType.TYPE1) for _ in range(3)]\n",
    "h = StandardCatHouse(0.9, wt1 + wt2 + ft1)\n",
    "\n",
    "wt1 = [WoodenHousePart(0.5, Color.RED, WoodenPartType.TYPE1) for _ in range(15)]\n",
    "wt2 = [WoodenHousePart(0.5, Color.RED, WoodenPartType.TYPE2) for _ in range(1)]\n",
    "wt3 = [WoodenHousePart(0.5, Color.RED, WoodenPartType.TYPE3) for _ in range(3)]\n",
    "ft1 = [FabricHousePart(0.5, Color.RED, FabricPartType.TYPE1) for _ in range(3)]\n",
    "ft2 = [FabricHousePart(0.5, Color.RED, FabricPartType.TYPE2) for _ in range(2)]\n",
    "h = PremiumCatHouse(0.9, wt1 + wt2 + wt3 + ft1 + ft2)\n",
    "\n",
    "print([p for p in h.parts if p.get_type() in set(WoodenPartType)])"
   ]
  },
  {
   "cell_type": "code",
   "execution_count": 4,
   "metadata": {},
   "outputs": [
    {
     "name": "stdout",
     "output_type": "stream",
     "text": [
      "0: Начата закупка сырья\n",
      "Запланировано 16 премиум и 34 стандартных домиков\n",
      "15: Закупка сырья завершена\n",
      "15: Поставка материалов | Дерево: 1500ед, Ткань: 1500ед, Краска: 1500ед\n",
      "15 начало изготовления деталей типов {<WoodenPartType.TYPE2: 2>, <WoodenPartType.TYPE1: 1>, <WoodenPartType.TYPE3: 3>} для дома типа CatHouseType.PREMIUM\n",
      "Изготавливаем 950 деталей\n",
      "15 начало изготовления деталей типов {<FabricPartType.TYPE2: 2>, <FabricPartType.TYPE1: 1>} для дома типа CatHouseType.PREMIUM\n",
      "Изготавливаем 250 деталей\n",
      "35 Сломалась деталь WoodenPartType.TYPE1\n",
      "445 Сломалась деталь WoodenPartType.TYPE1\n",
      "475 Сломалась деталь FabricPartType.TYPE1\n",
      "555 Сломалась деталь FabricPartType.TYPE1\n",
      "755 Сломалась деталь WoodenPartType.TYPE1\n",
      "1465 Сломалась деталь WoodenPartType.TYPE1\n",
      "1865 Сломалась деталь FabricPartType.TYPE1\n",
      "2235 Сломалась деталь FabricPartType.TYPE2\n",
      "2555 конец изготовления деталей типов {<FabricPartType.TYPE2: 2>, <FabricPartType.TYPE1: 1>} для дома типа CatHouseType.PREMIUM\n",
      "Всего изготовлено деталей 250 из 250\n",
      "2715 Сломалась деталь WoodenPartType.TYPE3\n",
      "3175 Сломалась деталь WoodenPartType.TYPE1\n",
      "3405 Сломалась деталь WoodenPartType.TYPE1\n",
      "4575 Сломалась деталь WoodenPartType.TYPE1\n",
      "5995 Сломалась деталь WoodenPartType.TYPE1\n",
      "6345 Сломалась деталь WoodenPartType.TYPE2\n",
      "6945 Сломалась деталь WoodenPartType.TYPE3\n",
      "7315 Сломалась деталь WoodenPartType.TYPE2\n",
      "7375 Сломалась деталь WoodenPartType.TYPE1\n",
      "8085 Сломалась деталь WoodenPartType.TYPE1\n",
      "8515 Сломалась деталь WoodenPartType.TYPE3\n",
      "8675 Сломалась деталь WoodenPartType.TYPE1\n",
      "8685 Сломалась деталь WoodenPartType.TYPE1\n",
      "9045 Сломалась деталь WoodenPartType.TYPE1\n",
      "9345 Сломалась деталь WoodenPartType.TYPE1\n",
      "9705 конец изготовления деталей типов {<WoodenPartType.TYPE2: 2>, <WoodenPartType.TYPE1: 1>, <WoodenPartType.TYPE3: 3>} для дома типа CatHouseType.PREMIUM\n",
      "Всего изготовлено деталей 950 из 950\n",
      "9705 начало изготовления деталей типов {<WoodenPartType.TYPE2: 2>, <WoodenPartType.TYPE1: 1>, <WoodenPartType.TYPE3: 3>} для дома типа CatHouseType.STANDARD\n",
      "Изготавливаем 550 деталей\n",
      "9705 начало изготовления деталей типов {<FabricPartType.TYPE2: 2>, <FabricPartType.TYPE1: 1>} для дома типа CatHouseType.STANDARD\n",
      "Изготавливаем 150 деталей\n",
      "9725 Сломалась деталь FabricPartType.TYPE1\n",
      "9915 Сломалась деталь FabricPartType.TYPE1\n",
      "9985 Сломалась деталь FabricPartType.TYPE1\n",
      "10065 Сломалась деталь FabricPartType.TYPE1\n",
      "10075 Сломалась деталь WoodenPartType.TYPE1\n",
      "10145 Сломалась деталь WoodenPartType.TYPE1\n",
      "10665 Сломалась деталь WoodenPartType.TYPE1\n",
      "10775 Сломалась деталь FabricPartType.TYPE1\n",
      "10865 Сломалась деталь FabricPartType.TYPE1\n",
      "10885 Сломалась деталь FabricPartType.TYPE1\n",
      "10945 Сломалась деталь WoodenPartType.TYPE2\n",
      "11085 конец изготовления деталей типов {<FabricPartType.TYPE2: 2>, <FabricPartType.TYPE1: 1>} для дома типа CatHouseType.STANDARD\n",
      "Всего изготовлено деталей 131 из 150\n",
      "11095 конец изготовления деталей типов {<WoodenPartType.TYPE2: 2>, <WoodenPartType.TYPE1: 1>, <WoodenPartType.TYPE3: 3>} для дома типа CatHouseType.STANDARD\n",
      "Всего изготовлено деталей 135 из 550\n",
      "11095 Завершена обработка деталей\n",
      "Состояние:\n",
      "392 планок дерева\n",
      "1108 рулонов ткани\n",
      "0 ведер краски\n",
      "1085 деревянных деталей\n",
      "381 тканевых деталей\n",
      "11095 Начинается сборка премиум домов\n",
      "11095 Cборка премиум домов завершена\n",
      "11095 Начинается сборка стандартных домов\n"
     ]
    },
    {
     "ename": "TypeError",
     "evalue": "'int' object does not support item assignment",
     "output_type": "error",
     "traceback": [
      "\u001b[0;31m---------------------------------------------------------------------------\u001b[0m",
      "\u001b[0;31mTypeError\u001b[0m                                 Traceback (most recent call last)",
      "File \u001b[0;32m~/personal/uni/im/ref/cat-houses-model/cathousefactory.py:335\u001b[0m, in \u001b[0;36mCatHouseFactory.build_houses\u001b[0;34m(self, house_type)\u001b[0m\n\u001b[1;32m    334\u001b[0m \u001b[38;5;28;01mdef\u001b[39;00m\u001b[38;5;250m \u001b[39m\u001b[38;5;21mbuild_houses\u001b[39m(\u001b[38;5;28mself\u001b[39m, house_type: CatHouseType):\n\u001b[0;32m--> 335\u001b[0m     \u001b[38;5;28;43mself\u001b[39;49m\u001b[38;5;241;43m.\u001b[39;49m\u001b[43mhouse_build_tasks\u001b[49m\u001b[43m[\u001b[49m\u001b[43mhouse_type\u001b[49m\u001b[43m]\u001b[49m \u001b[38;5;241m=\u001b[39m \u001b[38;5;28mself\u001b[39m\u001b[38;5;241m.\u001b[39mconfig\u001b[38;5;241m.\u001b[39mPLANNED_HOUSES_NUMS[house_type]\n\u001b[1;32m    337\u001b[0m     \u001b[38;5;28;01mwhile\u001b[39;00m \u001b[38;5;28mself\u001b[39m\u001b[38;5;241m.\u001b[39mhouse_build_tasks[house_type] \u001b[38;5;241m>\u001b[39m \u001b[38;5;241m0\u001b[39m:\n",
      "\u001b[0;31mTypeError\u001b[0m: 'int' object does not support item assignment",
      "\nThe above exception was the direct cause of the following exception:\n",
      "\u001b[0;31mTypeError\u001b[0m                                 Traceback (most recent call last)",
      "File \u001b[0;32m~/personal/uni/im/ref/cat-houses-model/cathousefactory.py:157\u001b[0m, in \u001b[0;36mCatHouseFactory.orchestrate\u001b[0;34m(self)\u001b[0m\n\u001b[1;32m    156\u001b[0m \u001b[38;5;28mprint\u001b[39m(\u001b[38;5;124mf\u001b[39m\u001b[38;5;124m\"\u001b[39m\u001b[38;5;132;01m{\u001b[39;00m\u001b[38;5;28mself\u001b[39m\u001b[38;5;241m.\u001b[39menv\u001b[38;5;241m.\u001b[39mnow\u001b[38;5;132;01m}\u001b[39;00m\u001b[38;5;124m Начинается сборка стандартных домов\u001b[39m\u001b[38;5;124m\"\u001b[39m)\n\u001b[0;32m--> 157\u001b[0m \u001b[38;5;28;01myield\u001b[39;00m \u001b[38;5;28mself\u001b[39m\u001b[38;5;241m.\u001b[39menv\u001b[38;5;241m.\u001b[39mprocess(\u001b[38;5;28mself\u001b[39m\u001b[38;5;241m.\u001b[39mbuild_houses(CatHouseType\u001b[38;5;241m.\u001b[39mSTANDARD))\n\u001b[1;32m    158\u001b[0m \u001b[38;5;28mprint\u001b[39m(\u001b[38;5;124mf\u001b[39m\u001b[38;5;124m\"\u001b[39m\u001b[38;5;132;01m{\u001b[39;00m\u001b[38;5;28mself\u001b[39m\u001b[38;5;241m.\u001b[39menv\u001b[38;5;241m.\u001b[39mnow\u001b[38;5;132;01m}\u001b[39;00m\u001b[38;5;124m Cборка стандартных домов завершена\u001b[39m\u001b[38;5;124m\"\u001b[39m)\n",
      "\u001b[0;31mTypeError\u001b[0m: 'int' object does not support item assignment",
      "\nThe above exception was the direct cause of the following exception:\n",
      "\u001b[0;31mTypeError\u001b[0m                                 Traceback (most recent call last)",
      "Cell \u001b[0;32mIn[4], line 16\u001b[0m\n\u001b[1;32m     12\u001b[0m     factory \u001b[38;5;241m=\u001b[39m CatHouseFactory(env, config)\n\u001b[1;32m     14\u001b[0m     factory\u001b[38;5;241m.\u001b[39mrun(until\u001b[38;5;241m=\u001b[39m\u001b[38;5;241m1000000\u001b[39m)\n\u001b[0;32m---> 16\u001b[0m \u001b[43mrun_simulation\u001b[49m\u001b[43m(\u001b[49m\u001b[43m)\u001b[49m\n",
      "Cell \u001b[0;32mIn[4], line 14\u001b[0m, in \u001b[0;36mrun_simulation\u001b[0;34m()\u001b[0m\n\u001b[1;32m     11\u001b[0m env \u001b[38;5;241m=\u001b[39m simpy\u001b[38;5;241m.\u001b[39mEnvironment()\n\u001b[1;32m     12\u001b[0m factory \u001b[38;5;241m=\u001b[39m CatHouseFactory(env, config)\n\u001b[0;32m---> 14\u001b[0m \u001b[43mfactory\u001b[49m\u001b[38;5;241;43m.\u001b[39;49m\u001b[43mrun\u001b[49m\u001b[43m(\u001b[49m\u001b[43muntil\u001b[49m\u001b[38;5;241;43m=\u001b[39;49m\u001b[38;5;241;43m1000000\u001b[39;49m\u001b[43m)\u001b[49m\n",
      "File \u001b[0;32m~/personal/uni/im/ref/cat-houses-model/cathousefactory.py:123\u001b[0m, in \u001b[0;36mCatHouseFactory.run\u001b[0;34m(self, *args, **kwargs)\u001b[0m\n\u001b[1;32m    120\u001b[0m \u001b[38;5;28;01mdef\u001b[39;00m\u001b[38;5;250m \u001b[39m\u001b[38;5;21mrun\u001b[39m(\u001b[38;5;28mself\u001b[39m, \u001b[38;5;241m*\u001b[39margs, \u001b[38;5;241m*\u001b[39m\u001b[38;5;241m*\u001b[39mkwargs):\n\u001b[1;32m    121\u001b[0m     \u001b[38;5;66;03m# Запуск процессов\u001b[39;00m\n\u001b[1;32m    122\u001b[0m     \u001b[38;5;28mself\u001b[39m\u001b[38;5;241m.\u001b[39menv\u001b[38;5;241m.\u001b[39mprocess(\u001b[38;5;28mself\u001b[39m\u001b[38;5;241m.\u001b[39morchestrate())\n\u001b[0;32m--> 123\u001b[0m     \u001b[38;5;28;43mself\u001b[39;49m\u001b[38;5;241;43m.\u001b[39;49m\u001b[43menv\u001b[49m\u001b[38;5;241;43m.\u001b[39;49m\u001b[43mrun\u001b[49m\u001b[43m(\u001b[49m\u001b[38;5;241;43m*\u001b[39;49m\u001b[43margs\u001b[49m\u001b[43m,\u001b[49m\u001b[43m \u001b[49m\u001b[38;5;241;43m*\u001b[39;49m\u001b[38;5;241;43m*\u001b[39;49m\u001b[43mkwargs\u001b[49m\u001b[43m)\u001b[49m\n",
      "File \u001b[0;32m~/personal/uni/im/ref/.venv/lib/python3.9/site-packages/simpy/core.py:246\u001b[0m, in \u001b[0;36mEnvironment.run\u001b[0;34m(self, until)\u001b[0m\n\u001b[1;32m    244\u001b[0m \u001b[38;5;28;01mtry\u001b[39;00m:\n\u001b[1;32m    245\u001b[0m     \u001b[38;5;28;01mwhile\u001b[39;00m \u001b[38;5;28;01mTrue\u001b[39;00m:\n\u001b[0;32m--> 246\u001b[0m         \u001b[38;5;28;43mself\u001b[39;49m\u001b[38;5;241;43m.\u001b[39;49m\u001b[43mstep\u001b[49m\u001b[43m(\u001b[49m\u001b[43m)\u001b[49m\n\u001b[1;32m    247\u001b[0m \u001b[38;5;28;01mexcept\u001b[39;00m StopSimulation \u001b[38;5;28;01mas\u001b[39;00m exc:\n\u001b[1;32m    248\u001b[0m     \u001b[38;5;28;01mreturn\u001b[39;00m exc\u001b[38;5;241m.\u001b[39margs[\u001b[38;5;241m0\u001b[39m]  \u001b[38;5;66;03m# == until.value\u001b[39;00m\n",
      "File \u001b[0;32m~/personal/uni/im/ref/.venv/lib/python3.9/site-packages/simpy/core.py:204\u001b[0m, in \u001b[0;36mEnvironment.step\u001b[0;34m(self)\u001b[0m\n\u001b[1;32m    202\u001b[0m exc \u001b[38;5;241m=\u001b[39m \u001b[38;5;28mtype\u001b[39m(event\u001b[38;5;241m.\u001b[39m_value)(\u001b[38;5;241m*\u001b[39mevent\u001b[38;5;241m.\u001b[39m_value\u001b[38;5;241m.\u001b[39margs)\n\u001b[1;32m    203\u001b[0m exc\u001b[38;5;241m.\u001b[39m__cause__ \u001b[38;5;241m=\u001b[39m event\u001b[38;5;241m.\u001b[39m_value\n\u001b[0;32m--> 204\u001b[0m \u001b[38;5;28;01mraise\u001b[39;00m exc\n",
      "\u001b[0;31mTypeError\u001b[0m: 'int' object does not support item assignment"
     ]
    }
   ],
   "source": [
    "\n",
    "# ============== #\n",
    "#     ЗАПУСК     #\n",
    "# ============== #\n",
    "\n",
    "\n",
    "def run_simulation():\n",
    "    \n",
    "    config = CatFactoryConfig()\n",
    "    config.PLANNED_HOUSES_NUM = 50\n",
    "    config.PLANNED_PREMIUM_RATIO = 0.33\n",
    "    env = simpy.Environment()\n",
    "    factory = CatHouseFactory(env, config)\n",
    "    \n",
    "    factory.run(until=1000000)\n",
    "\n",
    "run_simulation()"
   ]
  },
  {
   "cell_type": "code",
   "execution_count": null,
   "metadata": {},
   "outputs": [
    {
     "name": "stdout",
     "output_type": "stream",
     "text": [
      "SortedKeyList([WoodenHousePart(quality=0.1, color=<Color.RED: 1>, type=<WoodenPartType.TYPE1: 1>), WoodenHousePart(quality=0.2, color=<Color.RED: 1>, type=<WoodenPartType.TYPE1: 1>), WoodenHousePart(quality=0.3, color=<Color.RED: 1>, type=<WoodenPartType.TYPE1: 1>), WoodenHousePart(quality=0.5, color=<Color.RED: 1>, type=<WoodenPartType.TYPE1: 1>), WoodenHousePart(quality=0.7, color=<Color.RED: 1>, type=<WoodenPartType.TYPE1: 1>)], key=<function <lambda> at 0x10434cee0>)\n",
      "[WoodenHousePart(quality=0.1, color=<Color.RED: 1>, type=<WoodenPartType.TYPE1: 1>), WoodenHousePart(quality=0.2, color=<Color.RED: 1>, type=<WoodenPartType.TYPE1: 1>), WoodenHousePart(quality=0.3, color=<Color.RED: 1>, type=<WoodenPartType.TYPE1: 1>), WoodenHousePart(quality=0.5, color=<Color.RED: 1>, type=<WoodenPartType.TYPE1: 1>), WoodenHousePart(quality=0.7, color=<Color.RED: 1>, type=<WoodenPartType.TYPE1: 1>)]\n",
      "5\n",
      "[WoodenHousePart(quality=0.1, color=<Color.RED: 1>, type=<WoodenPartType.TYPE1: 1>), WoodenHousePart(quality=0.2, color=<Color.RED: 1>, type=<WoodenPartType.TYPE1: 1>), WoodenHousePart(quality=0.3, color=<Color.RED: 1>, type=<WoodenPartType.TYPE1: 1>), WoodenHousePart(quality=0.5, color=<Color.RED: 1>, type=<WoodenPartType.TYPE1: 1>), WoodenHousePart(quality=0.7, color=<Color.RED: 1>, type=<WoodenPartType.TYPE1: 1>)]\n"
     ]
    }
   ],
   "source": [
    "from sortedcontainers import SortedList\n",
    "\n",
    "l = SortedList(key=lambda p: p.quality)\n",
    "\n",
    "l.add(WoodenHousePart(0.3, Color.RED, WoodenPartType.TYPE1))\n",
    "l.add(WoodenHousePart(0.5, Color.RED, WoodenPartType.TYPE1))\n",
    "l.add(WoodenHousePart(0.2, Color.RED, WoodenPartType.TYPE1))\n",
    "l.add(WoodenHousePart(0.7, Color.RED, WoodenPartType.TYPE1))\n",
    "l.add(WoodenHousePart(0.1, Color.RED, WoodenPartType.TYPE1))\n",
    "\n",
    "print(l)\n",
    "print(list(l))\n",
    "print(len(l))\n",
    "print([x for x in l])"
   ]
  }
 ],
 "metadata": {
  "kernelspec": {
   "display_name": ".venv",
   "language": "python",
   "name": "python3"
  },
  "language_info": {
   "codemirror_mode": {
    "name": "ipython",
    "version": 3
   },
   "file_extension": ".py",
   "mimetype": "text/x-python",
   "name": "python",
   "nbconvert_exporter": "python",
   "pygments_lexer": "ipython3",
   "version": "3.9.6"
  }
 },
 "nbformat": 4,
 "nbformat_minor": 2
}
