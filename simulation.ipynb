{
 "cells": [
  {
   "cell_type": "code",
   "execution_count": 1,
   "metadata": {},
   "outputs": [
    {
     "name": "stdout",
     "output_type": "stream",
     "text": [
      "Requirement already satisfied: simpy in /Users/jeroma/personal/uni/im/ref/.venv/lib/python3.9/site-packages (4.1.1)\n",
      "Requirement already satisfied: numpy in /Users/jeroma/personal/uni/im/ref/.venv/lib/python3.9/site-packages (2.0.2)\n",
      "Requirement already satisfied: matplotlib in /Users/jeroma/personal/uni/im/ref/.venv/lib/python3.9/site-packages (3.9.4)\n",
      "Requirement already satisfied: sortedcontainers in /Users/jeroma/personal/uni/im/ref/.venv/lib/python3.9/site-packages (2.4.0)\n",
      "Requirement already satisfied: contourpy>=1.0.1 in /Users/jeroma/personal/uni/im/ref/.venv/lib/python3.9/site-packages (from matplotlib) (1.3.0)\n",
      "Requirement already satisfied: cycler>=0.10 in /Users/jeroma/personal/uni/im/ref/.venv/lib/python3.9/site-packages (from matplotlib) (0.12.1)\n",
      "Requirement already satisfied: fonttools>=4.22.0 in /Users/jeroma/personal/uni/im/ref/.venv/lib/python3.9/site-packages (from matplotlib) (4.57.0)\n",
      "Requirement already satisfied: kiwisolver>=1.3.1 in /Users/jeroma/personal/uni/im/ref/.venv/lib/python3.9/site-packages (from matplotlib) (1.4.7)\n",
      "Requirement already satisfied: packaging>=20.0 in /Users/jeroma/personal/uni/im/ref/.venv/lib/python3.9/site-packages (from matplotlib) (25.0)\n",
      "Requirement already satisfied: pillow>=8 in /Users/jeroma/personal/uni/im/ref/.venv/lib/python3.9/site-packages (from matplotlib) (11.2.1)\n",
      "Requirement already satisfied: pyparsing>=2.3.1 in /Users/jeroma/personal/uni/im/ref/.venv/lib/python3.9/site-packages (from matplotlib) (3.2.3)\n",
      "Requirement already satisfied: python-dateutil>=2.7 in /Users/jeroma/personal/uni/im/ref/.venv/lib/python3.9/site-packages (from matplotlib) (2.9.0.post0)\n",
      "Requirement already satisfied: importlib-resources>=3.2.0 in /Users/jeroma/personal/uni/im/ref/.venv/lib/python3.9/site-packages (from matplotlib) (6.5.2)\n",
      "Requirement already satisfied: zipp>=3.1.0 in /Users/jeroma/personal/uni/im/ref/.venv/lib/python3.9/site-packages (from importlib-resources>=3.2.0->matplotlib) (3.21.0)\n",
      "Requirement already satisfied: six>=1.5 in /Users/jeroma/personal/uni/im/ref/.venv/lib/python3.9/site-packages (from python-dateutil>=2.7->matplotlib) (1.17.0)\n",
      "Note: you may need to restart the kernel to use updated packages.\n"
     ]
    }
   ],
   "source": [
    "%pip install simpy numpy matplotlib sortedcontainers"
   ]
  },
  {
   "cell_type": "code",
   "execution_count": 2,
   "metadata": {},
   "outputs": [],
   "source": [
    "# %load_ext autoreload\n",
    "# %autoreload 2\n",
    "import simpy\n",
    "import random\n",
    "import numpy as np\n",
    "from collections import defaultdict\n",
    "\n",
    "from models import Color, PremiumCatHouse, StandardCatHouse\n",
    "from models import WoodenHousePart, WoodenPartType, FabricHousePart, FabricPartType\n",
    "\n",
    "from cathousefactory import CatHouseFactory\n",
    "from cathousefactory import CatFactoryConfig"
   ]
  },
  {
   "cell_type": "code",
   "execution_count": 3,
   "metadata": {},
   "outputs": [
    {
     "name": "stdout",
     "output_type": "stream",
     "text": [
      "[WoodenHousePart(quality=0.5, color=<Color.RED: 1>, type=<WoodenPartType.TYPE1: 1>), WoodenHousePart(quality=0.5, color=<Color.RED: 1>, type=<WoodenPartType.TYPE1: 1>), WoodenHousePart(quality=0.5, color=<Color.RED: 1>, type=<WoodenPartType.TYPE1: 1>), WoodenHousePart(quality=0.5, color=<Color.RED: 1>, type=<WoodenPartType.TYPE1: 1>), WoodenHousePart(quality=0.5, color=<Color.RED: 1>, type=<WoodenPartType.TYPE1: 1>), WoodenHousePart(quality=0.5, color=<Color.RED: 1>, type=<WoodenPartType.TYPE1: 1>), WoodenHousePart(quality=0.5, color=<Color.RED: 1>, type=<WoodenPartType.TYPE1: 1>), WoodenHousePart(quality=0.5, color=<Color.RED: 1>, type=<WoodenPartType.TYPE1: 1>), WoodenHousePart(quality=0.5, color=<Color.RED: 1>, type=<WoodenPartType.TYPE1: 1>), WoodenHousePart(quality=0.5, color=<Color.RED: 1>, type=<WoodenPartType.TYPE1: 1>), WoodenHousePart(quality=0.5, color=<Color.RED: 1>, type=<WoodenPartType.TYPE1: 1>), WoodenHousePart(quality=0.5, color=<Color.RED: 1>, type=<WoodenPartType.TYPE1: 1>), WoodenHousePart(quality=0.5, color=<Color.RED: 1>, type=<WoodenPartType.TYPE1: 1>), WoodenHousePart(quality=0.5, color=<Color.RED: 1>, type=<WoodenPartType.TYPE1: 1>), WoodenHousePart(quality=0.5, color=<Color.RED: 1>, type=<WoodenPartType.TYPE1: 1>), WoodenHousePart(quality=0.5, color=<Color.RED: 1>, type=<WoodenPartType.TYPE2: 2>), WoodenHousePart(quality=0.5, color=<Color.RED: 1>, type=<WoodenPartType.TYPE3: 3>), WoodenHousePart(quality=0.5, color=<Color.RED: 1>, type=<WoodenPartType.TYPE3: 3>), WoodenHousePart(quality=0.5, color=<Color.RED: 1>, type=<WoodenPartType.TYPE3: 3>)]\n"
     ]
    }
   ],
   "source": [
    "\n",
    "wt1 = [WoodenHousePart(0.5, Color.RED, WoodenPartType.TYPE1) for _ in range(10)]\n",
    "wt2 = [WoodenHousePart(0.5, Color.RED, WoodenPartType.TYPE2) for _ in range(1)]\n",
    "ft1 = [FabricHousePart(0.5, Color.RED, FabricPartType.TYPE1) for _ in range(3)]\n",
    "h = StandardCatHouse(0.9, wt1 + wt2 + ft1)\n",
    "\n",
    "wt1 = [WoodenHousePart(0.5, Color.RED, WoodenPartType.TYPE1) for _ in range(15)]\n",
    "wt2 = [WoodenHousePart(0.5, Color.RED, WoodenPartType.TYPE2) for _ in range(1)]\n",
    "wt3 = [WoodenHousePart(0.5, Color.RED, WoodenPartType.TYPE3) for _ in range(3)]\n",
    "ft1 = [FabricHousePart(0.5, Color.RED, FabricPartType.TYPE1) for _ in range(3)]\n",
    "ft2 = [FabricHousePart(0.5, Color.RED, FabricPartType.TYPE2) for _ in range(2)]\n",
    "h = PremiumCatHouse(0.9, wt1 + wt2 + wt3 + ft1 + ft2)\n",
    "\n",
    "print([p for p in h.parts if p.get_type() in set(WoodenPartType)])"
   ]
  },
  {
   "cell_type": "code",
   "execution_count": 4,
   "metadata": {},
   "outputs": [
    {
     "name": "stdout",
     "output_type": "stream",
     "text": [
      "0: Начата закупка сырья\n",
      "Запланировано 20 премиум и 30 стандартных домиков\n",
      "15: Закупка сырья завершена\n",
      "15: Поставка материалов | Дерево: 710ед, Ткань: 190ед, Краска: 900ед\n",
      "15 начало изготовления деталей типов {<WoodenPartType.TYPE1: 1>, <WoodenPartType.TYPE3: 3>, <WoodenPartType.TYPE2: 2>} для дома типа CatHouseType.PREMIUM\n",
      "Изготавливаем 380 деталей\n",
      "15 начало изготовления деталей типов {<FabricPartType.TYPE1: 1>, <FabricPartType.TYPE2: 2>} для дома типа CatHouseType.PREMIUM\n",
      "Изготавливаем 100 деталей\n",
      "95 Сломалась деталь FabricPartType.TYPE1\n",
      "295 Сломалась деталь FabricPartType.TYPE1\n",
      "305 Сломалась деталь WoodenPartType.TYPE1\n",
      "615 Сломалась деталь WoodenPartType.TYPE1\n",
      "935 Сломалась деталь FabricPartType.TYPE2\n",
      "1045 конец изготовления деталей типов {<FabricPartType.TYPE1: 1>, <FabricPartType.TYPE2: 2>} для дома типа CatHouseType.PREMIUM\n",
      "Всего изготовлено деталей 100 из 100\n",
      "1325 Сломалась деталь WoodenPartType.TYPE1\n",
      "1535 Сломалась деталь WoodenPartType.TYPE2\n",
      "3295 Сломалась деталь WoodenPartType.TYPE1\n",
      "3865 конец изготовления деталей типов {<WoodenPartType.TYPE1: 1>, <WoodenPartType.TYPE3: 3>, <WoodenPartType.TYPE2: 2>} для дома типа CatHouseType.PREMIUM\n",
      "Всего изготовлено деталей 380 из 380\n",
      "3865 начало изготовления деталей типов {<WoodenPartType.TYPE1: 1>, <WoodenPartType.TYPE3: 3>, <WoodenPartType.TYPE2: 2>} для дома типа CatHouseType.STANDARD\n",
      "Изготавливаем 330 деталей\n",
      "3865 начало изготовления деталей типов {<FabricPartType.TYPE1: 1>, <FabricPartType.TYPE2: 2>} для дома типа CatHouseType.STANDARD\n",
      "Изготавливаем 90 деталей\n",
      "4065 Сломалась деталь WoodenPartType.TYPE1\n",
      "4275 Сломалась деталь FabricPartType.TYPE1\n",
      "4735 конец изготовления деталей типов {<FabricPartType.TYPE1: 1>, <FabricPartType.TYPE2: 2>} для дома типа CatHouseType.STANDARD\n",
      "Всего изготовлено деталей 86 из 90\n",
      "5555 Сломалась деталь WoodenPartType.TYPE1\n",
      "5735 Сломалась деталь WoodenPartType.TYPE1\n",
      "5815 Сломалась деталь WoodenPartType.TYPE1\n",
      "5845 Сломалась деталь WoodenPartType.TYPE1\n",
      "6095 Сломалась деталь WoodenPartType.TYPE1\n",
      "6475 Сломалась деталь WoodenPartType.TYPE1\n",
      "7115 конец изготовления деталей типов {<WoodenPartType.TYPE1: 1>, <WoodenPartType.TYPE3: 3>, <WoodenPartType.TYPE2: 2>} для дома типа CatHouseType.STANDARD\n",
      "Всего изготовлено деталей 318 из 330\n",
      "7115 Завершена обработка деталей\n",
      "Состояние:\n",
      "0 планок дерева\n",
      "0 рулонов ткани\n",
      "0 ведер краски\n",
      "698 деревянных деталей\n",
      "186 тканевых деталей\n",
      "7115 Начинается сборка премиум домов\n",
      "7115 Начата смена сборщика, ждем освобождения\n",
      "7115 Начата смена сборщика, ждем освобождения\n",
      "7115 Начата смена сборщика, ждем освобождения\n",
      "7115 Начата смена сборщика, ждем освобождения\n",
      "7115 Сборщик приступил к работе\n",
      "7115 Сборщик приступил к работе\n",
      "7115 Сборщик приступил к работе\n",
      "7115 Сборщик приступил к работе\n",
      "7202 Смена сборщика завершена, задач на домик CatHouseType.PREMIUM больше нет\n",
      "7211 Смена сборщика завершена, задач на домик CatHouseType.PREMIUM больше нет\n",
      "7215 Смена сборщика завершена, задач на домик CatHouseType.PREMIUM больше нет\n",
      "7226 Смена сборщика завершена, задач на домик CatHouseType.PREMIUM больше нет\n",
      "7226 Cборка премиум домов завершена\n",
      "7226 Начинается сборка стандартных домов\n",
      "7226 Начата смена сборщика, ждем освобождения\n",
      "7226 Начата смена сборщика, ждем освобождения\n",
      "7226 Начата смена сборщика, ждем освобождения\n",
      "7226 Начата смена сборщика, ждем освобождения\n",
      "7226 Сборщик приступил к работе\n",
      "7226 Сборщик приступил к работе\n",
      "7226 Сборщик приступил к работе\n",
      "7226 Сборщик приступил к работе\n",
      "7369 Смена сборщика завершена, задач на домик CatHouseType.STANDARD больше нет\n",
      "7371 Смена сборщика завершена, задач на домик CatHouseType.STANDARD больше нет\n",
      "7373 Смена сборщика завершена, задач на домик CatHouseType.STANDARD больше нет\n",
      "7397 Смена сборщика завершена, задач на домик CatHouseType.STANDARD больше нет\n",
      "7397 Cборка стандартных домов завершена\n",
      "Состояние:\n",
      "24 деревянных деталей\n",
      "2 тканевых деталей\n",
      "19 премиум домиков\n",
      "27 стандартных домиков\n",
      "7397 Начата смена котика, ждем приступления\n",
      "7397 Начата смена котика, ждем приступления\n",
      "7397 Начата смена котика, ждем приступления\n",
      "7397 Начата смена котика, ждем приступления\n",
      "7397 Котик приступил к работе\n",
      "7397 Котик приступил к работе\n",
      "7397 Котик приступил к работе\n",
      "7397 Котик приступил к работе\n",
      "8012 Смена котика завершена, задач тестирование домиков больше нет\n",
      "8039 Смена котика завершена, задач тестирование домиков больше нет\n",
      "8063 Смена котика завершена, задач тестирование домиков больше нет\n",
      "8066 Смена котика завершена, задач тестирование домиков больше нет\n",
      "8066 Завершено тестирование домиков\n",
      "Состояние:\n",
      "0 непротестированных домиков\n",
      "46 всего протестировано домиков\n",
      "28 к утилизации\n",
      "18 к продаже\n"
     ]
    }
   ],
   "source": [
    "\n",
    "# ============== #\n",
    "#     ЗАПУСК     #\n",
    "# ============== #\n",
    "\n",
    "\n",
    "def run_simulation():\n",
    "    \n",
    "    config = CatFactoryConfig(\n",
    "        PLANNED_HOUSES_NUM = 50,\n",
    "        PLANNED_PREMIUM_RATIO = 0.4\n",
    "    )\n",
    "    env = simpy.Environment()\n",
    "    factory = CatHouseFactory(env, config)\n",
    "    \n",
    "    factory.run(until=1000000)\n",
    "\n",
    "run_simulation()"
   ]
  }
 ],
 "metadata": {
  "kernelspec": {
   "display_name": ".venv",
   "language": "python",
   "name": "python3"
  },
  "language_info": {
   "codemirror_mode": {
    "name": "ipython",
    "version": 3
   },
   "file_extension": ".py",
   "mimetype": "text/x-python",
   "name": "python",
   "nbconvert_exporter": "python",
   "pygments_lexer": "ipython3",
   "version": "3.9.6"
  }
 },
 "nbformat": 4,
 "nbformat_minor": 2
}
